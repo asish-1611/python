{
 "cells": [
  {
   "cell_type": "code",
   "execution_count": 2,
   "metadata": {
    "executionInfo": {
     "elapsed": 29,
     "status": "ok",
     "timestamp": 1761560154741,
     "user": {
      "displayName": "Asish Thatikonda",
      "userId": "04608953650730104704"
     },
     "user_tz": -330
    },
    "id": "vu67ueoaWQiU"
   },
   "outputs": [],
   "source": [
    "import pandas as pd\n",
    "from sklearn.preprocessing import LabelEncoder"
   ]
  },
  {
   "cell_type": "markdown",
   "metadata": {
    "id": "vMuU6916WLMr"
   },
   "source": [
    "#Label Encoading\n"
   ]
  },
  {
   "cell_type": "code",
   "execution_count": 3,
   "metadata": {
    "executionInfo": {
     "elapsed": 37,
     "status": "ok",
     "timestamp": 1761560154782,
     "user": {
      "displayName": "Asish Thatikonda",
      "userId": "04608953650730104704"
     },
     "user_tz": -330
    },
    "id": "oRtuqFswWe9i"
   },
   "outputs": [],
   "source": [
    "data = {\n",
    "    'color' : ['red','green','blue','green','red','blue','yellow','blue','red','red']\n",
    "}"
   ]
  },
  {
   "cell_type": "code",
   "execution_count": 4,
   "metadata": {
    "colab": {
     "base_uri": "https://localhost:8080/"
    },
    "executionInfo": {
     "elapsed": 13,
     "status": "ok",
     "timestamp": 1761560154786,
     "user": {
      "displayName": "Asish Thatikonda",
      "userId": "04608953650730104704"
     },
     "user_tz": -330
    },
    "id": "Nud_QSWFWoTm",
    "outputId": "8a603ba8-046b-4320-f988-ebcfc88a97ec"
   },
   "outputs": [
    {
     "name": "stdout",
     "output_type": "stream",
     "text": [
      "After label encoading\n",
      "    color  color_encoded\n",
      "0     red              2\n",
      "1   green              1\n",
      "2    blue              0\n",
      "3   green              1\n",
      "4     red              2\n",
      "5    blue              0\n",
      "6  yellow              3\n",
      "7    blue              0\n",
      "8     red              2\n",
      "9     red              2\n"
     ]
    }
   ],
   "source": [
    "#applying label encoading\n",
    "le = LabelEncoder()\n",
    "df = pd.DataFrame(data)\n",
    "df['color_encoded'] = le.fit_transform(df['color'])\n",
    "\n",
    "print(\"After label encoading\")\n",
    "print(df)"
   ]
  },
  {
   "cell_type": "markdown",
   "metadata": {
    "id": "v06ujezmYH1s"
   },
   "source": [
    "# One-Hot Encoading or Dummy Encoading\n",
    "converts categories into multiple binary(0/1) columns"
   ]
  },
  {
   "cell_type": "code",
   "execution_count": 5,
   "metadata": {
    "colab": {
     "base_uri": "https://localhost:8080/"
    },
    "executionInfo": {
     "elapsed": 35,
     "status": "ok",
     "timestamp": 1761560154822,
     "user": {
      "displayName": "Asish Thatikonda",
      "userId": "04608953650730104704"
     },
     "user_tz": -330
    },
    "id": "KY03xd9SYPWW",
    "outputId": "4de05a80-a593-4ee4-80e7-470f8091b4f6"
   },
   "outputs": [
    {
     "name": "stdout",
     "output_type": "stream",
     "text": [
      "After one-hot Encoading\n",
      "   color_encoded  color_blue  color_green  color_red  color_yellow\n",
      "0              2           0            0          1             0\n",
      "1              1           0            1          0             0\n",
      "2              0           1            0          0             0\n",
      "3              1           0            1          0             0\n",
      "4              2           0            0          1             0\n",
      "5              0           1            0          0             0\n",
      "6              3           0            0          0             1\n",
      "7              0           1            0          0             0\n",
      "8              2           0            0          1             0\n",
      "9              2           0            0          1             0\n"
     ]
    }
   ],
   "source": [
    "#apply one-hot Encoading\n",
    "df_encoded = pd.get_dummies(df, columns=['color'],dtype=int)\n",
    "print(\"After one-hot Encoading\")\n",
    "print(df_encoded)"
   ]
  },
  {
   "cell_type": "markdown",
   "metadata": {
    "id": "l9jKWN8_a6yv"
   },
   "source": [
    "# applying both encoading on ecommers Dataset"
   ]
  },
  {
   "cell_type": "code",
   "execution_count": 6,
   "metadata": {
    "colab": {
     "base_uri": "https://localhost:8080/",
     "height": 226
    },
    "executionInfo": {
     "elapsed": 99,
     "status": "ok",
     "timestamp": 1761560154919,
     "user": {
      "displayName": "Asish Thatikonda",
      "userId": "04608953650730104704"
     },
     "user_tz": -330
    },
    "id": "HiWoMxTma5su",
    "outputId": "076fca98-ea68-4669-d356-7548519140a7"
   },
   "outputs": [
    {
     "data": {
      "application/vnd.microsoft.datawrangler.viewer.v0+json": {
       "columns": [
        {
         "name": "index",
         "rawType": "int64",
         "type": "integer"
        },
        {
         "name": "customer_id",
         "rawType": "int64",
         "type": "integer"
        },
        {
         "name": "age",
         "rawType": "float64",
         "type": "float"
        },
        {
         "name": "gender",
         "rawType": "object",
         "type": "string"
        },
        {
         "name": "country",
         "rawType": "object",
         "type": "string"
        },
        {
         "name": "signup_date",
         "rawType": "object",
         "type": "string"
        },
        {
         "name": "last_purchase_date",
         "rawType": "object",
         "type": "string"
        },
        {
         "name": "num_orders",
         "rawType": "int64",
         "type": "integer"
        },
        {
         "name": "total_spent",
         "rawType": "float64",
         "type": "float"
        },
        {
         "name": "avg_order_value",
         "rawType": "float64",
         "type": "float"
        },
        {
         "name": "recency_days",
         "rawType": "int64",
         "type": "integer"
        },
        {
         "name": "is_premium_member",
         "rawType": "int64",
         "type": "integer"
        },
        {
         "name": "device_type",
         "rawType": "object",
         "type": "unknown"
        },
        {
         "name": "preferred_category",
         "rawType": "object",
         "type": "unknown"
        },
        {
         "name": "churned",
         "rawType": "int64",
         "type": "integer"
        }
       ],
       "ref": "38003eb7-1528-4046-ad55-e4670bc53d4c",
       "rows": [
        [
         "0",
         "10001",
         "56.0",
         "Male",
         "India",
         "2022-01-27",
         "2024-04-27",
         "10",
         "13273.25",
         "1327.32",
         "522",
         "0",
         null,
         "Home",
         "0"
        ],
        [
         "1",
         "10002",
         "69.0",
         "Other",
         "UK",
         "2025-01-12",
         "2025-08-01",
         "10",
         null,
         "308.9",
         "61",
         "0",
         "Mobile",
         "Grocery",
         "0"
        ],
        [
         "2",
         "10003",
         "46.0",
         "Female",
         "USA",
         "2021-04-25",
         "2021-06-01",
         "5",
         "3411.83",
         "682.37",
         "1583",
         "0",
         null,
         null,
         "0"
        ],
        [
         "3",
         "10004",
         "32.0",
         "Male",
         "India",
         "2021-02-23",
         "2023-09-22",
         "5",
         "4502.0",
         "900.4",
         "740",
         "0",
         null,
         null,
         "0"
        ],
        [
         "4",
         "10005",
         "60.0",
         "Female",
         "India",
         "2021-06-07",
         "2021-12-11",
         "7",
         "3842.1",
         "548.87",
         "1390",
         "0",
         "Tablet",
         "Books",
         "0"
        ]
       ],
       "shape": {
        "columns": 14,
        "rows": 5
       }
      },
      "text/html": [
       "<div>\n",
       "<style scoped>\n",
       "    .dataframe tbody tr th:only-of-type {\n",
       "        vertical-align: middle;\n",
       "    }\n",
       "\n",
       "    .dataframe tbody tr th {\n",
       "        vertical-align: top;\n",
       "    }\n",
       "\n",
       "    .dataframe thead th {\n",
       "        text-align: right;\n",
       "    }\n",
       "</style>\n",
       "<table border=\"1\" class=\"dataframe\">\n",
       "  <thead>\n",
       "    <tr style=\"text-align: right;\">\n",
       "      <th></th>\n",
       "      <th>customer_id</th>\n",
       "      <th>age</th>\n",
       "      <th>gender</th>\n",
       "      <th>country</th>\n",
       "      <th>signup_date</th>\n",
       "      <th>last_purchase_date</th>\n",
       "      <th>num_orders</th>\n",
       "      <th>total_spent</th>\n",
       "      <th>avg_order_value</th>\n",
       "      <th>recency_days</th>\n",
       "      <th>is_premium_member</th>\n",
       "      <th>device_type</th>\n",
       "      <th>preferred_category</th>\n",
       "      <th>churned</th>\n",
       "    </tr>\n",
       "  </thead>\n",
       "  <tbody>\n",
       "    <tr>\n",
       "      <th>0</th>\n",
       "      <td>10001</td>\n",
       "      <td>56.0</td>\n",
       "      <td>Male</td>\n",
       "      <td>India</td>\n",
       "      <td>2022-01-27</td>\n",
       "      <td>2024-04-27</td>\n",
       "      <td>10</td>\n",
       "      <td>13273.25</td>\n",
       "      <td>1327.32</td>\n",
       "      <td>522</td>\n",
       "      <td>0</td>\n",
       "      <td>NaN</td>\n",
       "      <td>Home</td>\n",
       "      <td>0</td>\n",
       "    </tr>\n",
       "    <tr>\n",
       "      <th>1</th>\n",
       "      <td>10002</td>\n",
       "      <td>69.0</td>\n",
       "      <td>Other</td>\n",
       "      <td>UK</td>\n",
       "      <td>2025-01-12</td>\n",
       "      <td>2025-08-01</td>\n",
       "      <td>10</td>\n",
       "      <td>NaN</td>\n",
       "      <td>308.90</td>\n",
       "      <td>61</td>\n",
       "      <td>0</td>\n",
       "      <td>Mobile</td>\n",
       "      <td>Grocery</td>\n",
       "      <td>0</td>\n",
       "    </tr>\n",
       "    <tr>\n",
       "      <th>2</th>\n",
       "      <td>10003</td>\n",
       "      <td>46.0</td>\n",
       "      <td>Female</td>\n",
       "      <td>USA</td>\n",
       "      <td>2021-04-25</td>\n",
       "      <td>2021-06-01</td>\n",
       "      <td>5</td>\n",
       "      <td>3411.83</td>\n",
       "      <td>682.37</td>\n",
       "      <td>1583</td>\n",
       "      <td>0</td>\n",
       "      <td>NaN</td>\n",
       "      <td>NaN</td>\n",
       "      <td>0</td>\n",
       "    </tr>\n",
       "    <tr>\n",
       "      <th>3</th>\n",
       "      <td>10004</td>\n",
       "      <td>32.0</td>\n",
       "      <td>Male</td>\n",
       "      <td>India</td>\n",
       "      <td>2021-02-23</td>\n",
       "      <td>2023-09-22</td>\n",
       "      <td>5</td>\n",
       "      <td>4502.00</td>\n",
       "      <td>900.40</td>\n",
       "      <td>740</td>\n",
       "      <td>0</td>\n",
       "      <td>NaN</td>\n",
       "      <td>NaN</td>\n",
       "      <td>0</td>\n",
       "    </tr>\n",
       "    <tr>\n",
       "      <th>4</th>\n",
       "      <td>10005</td>\n",
       "      <td>60.0</td>\n",
       "      <td>Female</td>\n",
       "      <td>India</td>\n",
       "      <td>2021-06-07</td>\n",
       "      <td>2021-12-11</td>\n",
       "      <td>7</td>\n",
       "      <td>3842.10</td>\n",
       "      <td>548.87</td>\n",
       "      <td>1390</td>\n",
       "      <td>0</td>\n",
       "      <td>Tablet</td>\n",
       "      <td>Books</td>\n",
       "      <td>0</td>\n",
       "    </tr>\n",
       "  </tbody>\n",
       "</table>\n",
       "</div>"
      ],
      "text/plain": [
       "   customer_id   age  gender country signup_date last_purchase_date  \\\n",
       "0        10001  56.0    Male   India  2022-01-27         2024-04-27   \n",
       "1        10002  69.0   Other      UK  2025-01-12         2025-08-01   \n",
       "2        10003  46.0  Female     USA  2021-04-25         2021-06-01   \n",
       "3        10004  32.0    Male   India  2021-02-23         2023-09-22   \n",
       "4        10005  60.0  Female   India  2021-06-07         2021-12-11   \n",
       "\n",
       "   num_orders  total_spent  avg_order_value  recency_days  is_premium_member  \\\n",
       "0          10     13273.25          1327.32           522                  0   \n",
       "1          10          NaN           308.90            61                  0   \n",
       "2           5      3411.83           682.37          1583                  0   \n",
       "3           5      4502.00           900.40           740                  0   \n",
       "4           7      3842.10           548.87          1390                  0   \n",
       "\n",
       "  device_type preferred_category  churned  \n",
       "0         NaN               Home        0  \n",
       "1      Mobile            Grocery        0  \n",
       "2         NaN                NaN        0  \n",
       "3         NaN                NaN        0  \n",
       "4      Tablet              Books        0  "
      ]
     },
     "execution_count": 6,
     "metadata": {},
     "output_type": "execute_result"
    }
   ],
   "source": [
    "df = pd.read_csv('ecommerce_customers_unit1.csv')\n",
    "df.head()"
   ]
  },
  {
   "cell_type": "code",
   "execution_count": 7,
   "metadata": {
    "colab": {
     "base_uri": "https://localhost:8080/"
    },
    "executionInfo": {
     "elapsed": 30,
     "status": "ok",
     "timestamp": 1761560154950,
     "user": {
      "displayName": "Asish Thatikonda",
      "userId": "04608953650730104704"
     },
     "user_tz": -330
    },
    "id": "kW1MHNQybQ_Z",
    "outputId": "58a7beae-c619-45a8-a8e7-777b2fa597b2"
   },
   "outputs": [
    {
     "name": "stdout",
     "output_type": "stream",
     "text": [
      "Categorical columns\n",
      "['gender', 'country', 'signup_date', 'last_purchase_date', 'device_type', 'preferred_category']\n"
     ]
    }
   ],
   "source": [
    "#select categorical columns\n",
    "cat_cols = df.select_dtypes(include=['object']).columns\n",
    "print('Categorical columns')\n",
    "print(cat_cols.to_list())"
   ]
  },
  {
   "cell_type": "code",
   "execution_count": 8,
   "metadata": {
    "colab": {
     "base_uri": "https://localhost:8080/"
    },
    "executionInfo": {
     "elapsed": 20,
     "status": "ok",
     "timestamp": 1761560154972,
     "user": {
      "displayName": "Asish Thatikonda",
      "userId": "04608953650730104704"
     },
     "user_tz": -330
    },
    "id": "E09NEdKxbtQ4",
    "outputId": "3fb86068-f498-4853-f9e6-9b2bdad9c91f"
   },
   "outputs": [
    {
     "name": "stdout",
     "output_type": "stream",
     "text": [
      "After Label Encoading\n",
      "  country  country_encoaded\n",
      "0   India                 3\n",
      "1      UK                 4\n",
      "2     USA                 5\n",
      "3   India                 3\n",
      "4   India                 3\n"
     ]
    }
   ],
   "source": [
    "le = LabelEncoder()\n",
    "df['country_encoaded'] = le.fit_transform(df['country'])\n",
    "print(\"After Label Encoading\")\n",
    "print(df[['country','country_encoaded']].head())"
   ]
  },
  {
   "cell_type": "code",
   "execution_count": 9,
   "metadata": {
    "colab": {
     "base_uri": "https://localhost:8080/"
    },
    "executionInfo": {
     "elapsed": 8,
     "status": "ok",
     "timestamp": 1761560154982,
     "user": {
      "displayName": "Asish Thatikonda",
      "userId": "04608953650730104704"
     },
     "user_tz": -330
    },
    "id": "je6Y8kuNYrBt",
    "outputId": "b0a222de-c5c2-4fd1-ac10-827e00c645fe"
   },
   "outputs": [
    {
     "name": "stdout",
     "output_type": "stream",
     "text": [
      "after one-hot Encoading on gender\n",
      "     gender_Other  gender_Female  gender_Male\n",
      "0           False          False         True\n",
      "1            True          False        False\n",
      "2           False           True        False\n",
      "3           False          False         True\n",
      "4           False           True        False\n",
      "..            ...            ...          ...\n",
      "600         False           True        False\n",
      "601         False          False         True\n",
      "602         False          False         True\n",
      "603         False           True        False\n",
      "604         False           True        False\n",
      "\n",
      "[605 rows x 3 columns]\n",
      "<bound method IndexOpsMixin.tolist of Index(['preferred_category_Books', 'preferred_category_Electronics',\n",
      "       'preferred_category_Fashion', 'preferred_category_Grocery',\n",
      "       'preferred_category_Home', 'preferred_category_Sports'],\n",
      "      dtype='object')>\n",
      "     preferred_category_Books  preferred_category_Electronics  \\\n",
      "0                       False                           False   \n",
      "1                       False                           False   \n",
      "2                       False                           False   \n",
      "3                       False                           False   \n",
      "4                        True                           False   \n",
      "..                        ...                             ...   \n",
      "600                     False                            True   \n",
      "601                     False                            True   \n",
      "602                     False                            True   \n",
      "603                     False                           False   \n",
      "604                     False                           False   \n",
      "\n",
      "     preferred_category_Fashion  preferred_category_Grocery  \\\n",
      "0                         False                       False   \n",
      "1                         False                        True   \n",
      "2                         False                       False   \n",
      "3                         False                       False   \n",
      "4                         False                       False   \n",
      "..                          ...                         ...   \n",
      "600                       False                       False   \n",
      "601                       False                       False   \n",
      "602                       False                       False   \n",
      "603                       False                       False   \n",
      "604                        True                       False   \n",
      "\n",
      "     preferred_category_Home  preferred_category_Sports  \n",
      "0                       True                      False  \n",
      "1                      False                      False  \n",
      "2                      False                      False  \n",
      "3                      False                      False  \n",
      "4                      False                      False  \n",
      "..                       ...                        ...  \n",
      "600                    False                      False  \n",
      "601                    False                      False  \n",
      "602                    False                      False  \n",
      "603                     True                      False  \n",
      "604                    False                      False  \n",
      "\n",
      "[605 rows x 6 columns]\n"
     ]
    }
   ],
   "source": [
    "df_encoded = pd.get_dummies(df,columns=['gender'],dtype=bool)\n",
    "# df_encoded = pd.get_dummies(df,columns=['gender'])\n",
    "print(\"after one-hot Encoading on gender\")\n",
    "# print(df_encoded)\n",
    "print(df_encoded[['gender_Other','gender_Female','gender_Male']])\n",
    "\n",
    "df_encod = pd.get_dummies(df,columns=['preferred_category'],dtype=bool)\n",
    "# print(df_encod)\n",
    "df_result = df_encod.select_dtypes(include=['bool']).columns\n",
    "print(df_result.to_list)\n",
    "print(df_encod[df_result])\n"
   ]
  }
 ],
 "metadata": {
  "colab": {
   "authorship_tag": "ABX9TyOkzns0gQ89dJAAxBprgl8d",
   "provenance": []
  },
  "kernelspec": {
   "display_name": "Python 3",
   "name": "python3"
  },
  "language_info": {
   "codemirror_mode": {
    "name": "ipython",
    "version": 3
   },
   "file_extension": ".py",
   "mimetype": "text/x-python",
   "name": "python",
   "nbconvert_exporter": "python",
   "pygments_lexer": "ipython3",
   "version": "3.11.9"
  }
 },
 "nbformat": 4,
 "nbformat_minor": 0
}
