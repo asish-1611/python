{
 "cells": [
  {
   "cell_type": "code",
   "execution_count": 1,
   "metadata": {
    "id": "0mooe7SDnY0m"
   },
   "outputs": [],
   "source": [
    "import pandas as pd\n",
    "import matplotlib.pyplot as plt\n",
    "import seaborn as sns\n",
    "from sklearn.preprocessing import MinMaxScaler, StandardScaler"
   ]
  },
  {
   "cell_type": "code",
   "execution_count": 2,
   "metadata": {
    "id": "-CFP2Zd7nf7P"
   },
   "outputs": [
    {
     "data": {
      "application/vnd.microsoft.datawrangler.viewer.v0+json": {
       "columns": [
        {
         "name": "index",
         "rawType": "int64",
         "type": "integer"
        },
        {
         "name": "customer_id",
         "rawType": "int64",
         "type": "integer"
        },
        {
         "name": "age",
         "rawType": "float64",
         "type": "float"
        },
        {
         "name": "gender",
         "rawType": "object",
         "type": "string"
        },
        {
         "name": "country",
         "rawType": "object",
         "type": "string"
        },
        {
         "name": "signup_date",
         "rawType": "object",
         "type": "string"
        },
        {
         "name": "last_purchase_date",
         "rawType": "object",
         "type": "string"
        },
        {
         "name": "num_orders",
         "rawType": "int64",
         "type": "integer"
        },
        {
         "name": "total_spent",
         "rawType": "float64",
         "type": "float"
        },
        {
         "name": "avg_order_value",
         "rawType": "float64",
         "type": "float"
        },
        {
         "name": "recency_days",
         "rawType": "int64",
         "type": "integer"
        },
        {
         "name": "is_premium_member",
         "rawType": "int64",
         "type": "integer"
        },
        {
         "name": "device_type",
         "rawType": "object",
         "type": "unknown"
        },
        {
         "name": "preferred_category",
         "rawType": "object",
         "type": "unknown"
        },
        {
         "name": "churned",
         "rawType": "int64",
         "type": "integer"
        }
       ],
       "ref": "f6d2897b-a04f-4a0b-9644-4052c0c02b80",
       "rows": [
        [
         "0",
         "10001",
         "56.0",
         "Male",
         "India",
         "2022-01-27",
         "2024-04-27",
         "10",
         "13273.25",
         "1327.32",
         "522",
         "0",
         null,
         "Home",
         "0"
        ],
        [
         "1",
         "10002",
         "69.0",
         "Other",
         "UK",
         "2025-01-12",
         "2025-08-01",
         "10",
         null,
         "308.9",
         "61",
         "0",
         "Mobile",
         "Grocery",
         "0"
        ],
        [
         "2",
         "10003",
         "46.0",
         "Female",
         "USA",
         "2021-04-25",
         "2021-06-01",
         "5",
         "3411.83",
         "682.37",
         "1583",
         "0",
         null,
         null,
         "0"
        ],
        [
         "3",
         "10004",
         "32.0",
         "Male",
         "India",
         "2021-02-23",
         "2023-09-22",
         "5",
         "4502.0",
         "900.4",
         "740",
         "0",
         null,
         null,
         "0"
        ],
        [
         "4",
         "10005",
         "60.0",
         "Female",
         "India",
         "2021-06-07",
         "2021-12-11",
         "7",
         "3842.1",
         "548.87",
         "1390",
         "0",
         "Tablet",
         "Books",
         "0"
        ]
       ],
       "shape": {
        "columns": 14,
        "rows": 5
       }
      },
      "text/html": [
       "<div>\n",
       "<style scoped>\n",
       "    .dataframe tbody tr th:only-of-type {\n",
       "        vertical-align: middle;\n",
       "    }\n",
       "\n",
       "    .dataframe tbody tr th {\n",
       "        vertical-align: top;\n",
       "    }\n",
       "\n",
       "    .dataframe thead th {\n",
       "        text-align: right;\n",
       "    }\n",
       "</style>\n",
       "<table border=\"1\" class=\"dataframe\">\n",
       "  <thead>\n",
       "    <tr style=\"text-align: right;\">\n",
       "      <th></th>\n",
       "      <th>customer_id</th>\n",
       "      <th>age</th>\n",
       "      <th>gender</th>\n",
       "      <th>country</th>\n",
       "      <th>signup_date</th>\n",
       "      <th>last_purchase_date</th>\n",
       "      <th>num_orders</th>\n",
       "      <th>total_spent</th>\n",
       "      <th>avg_order_value</th>\n",
       "      <th>recency_days</th>\n",
       "      <th>is_premium_member</th>\n",
       "      <th>device_type</th>\n",
       "      <th>preferred_category</th>\n",
       "      <th>churned</th>\n",
       "    </tr>\n",
       "  </thead>\n",
       "  <tbody>\n",
       "    <tr>\n",
       "      <th>0</th>\n",
       "      <td>10001</td>\n",
       "      <td>56.0</td>\n",
       "      <td>Male</td>\n",
       "      <td>India</td>\n",
       "      <td>2022-01-27</td>\n",
       "      <td>2024-04-27</td>\n",
       "      <td>10</td>\n",
       "      <td>13273.25</td>\n",
       "      <td>1327.32</td>\n",
       "      <td>522</td>\n",
       "      <td>0</td>\n",
       "      <td>NaN</td>\n",
       "      <td>Home</td>\n",
       "      <td>0</td>\n",
       "    </tr>\n",
       "    <tr>\n",
       "      <th>1</th>\n",
       "      <td>10002</td>\n",
       "      <td>69.0</td>\n",
       "      <td>Other</td>\n",
       "      <td>UK</td>\n",
       "      <td>2025-01-12</td>\n",
       "      <td>2025-08-01</td>\n",
       "      <td>10</td>\n",
       "      <td>NaN</td>\n",
       "      <td>308.90</td>\n",
       "      <td>61</td>\n",
       "      <td>0</td>\n",
       "      <td>Mobile</td>\n",
       "      <td>Grocery</td>\n",
       "      <td>0</td>\n",
       "    </tr>\n",
       "    <tr>\n",
       "      <th>2</th>\n",
       "      <td>10003</td>\n",
       "      <td>46.0</td>\n",
       "      <td>Female</td>\n",
       "      <td>USA</td>\n",
       "      <td>2021-04-25</td>\n",
       "      <td>2021-06-01</td>\n",
       "      <td>5</td>\n",
       "      <td>3411.83</td>\n",
       "      <td>682.37</td>\n",
       "      <td>1583</td>\n",
       "      <td>0</td>\n",
       "      <td>NaN</td>\n",
       "      <td>NaN</td>\n",
       "      <td>0</td>\n",
       "    </tr>\n",
       "    <tr>\n",
       "      <th>3</th>\n",
       "      <td>10004</td>\n",
       "      <td>32.0</td>\n",
       "      <td>Male</td>\n",
       "      <td>India</td>\n",
       "      <td>2021-02-23</td>\n",
       "      <td>2023-09-22</td>\n",
       "      <td>5</td>\n",
       "      <td>4502.00</td>\n",
       "      <td>900.40</td>\n",
       "      <td>740</td>\n",
       "      <td>0</td>\n",
       "      <td>NaN</td>\n",
       "      <td>NaN</td>\n",
       "      <td>0</td>\n",
       "    </tr>\n",
       "    <tr>\n",
       "      <th>4</th>\n",
       "      <td>10005</td>\n",
       "      <td>60.0</td>\n",
       "      <td>Female</td>\n",
       "      <td>India</td>\n",
       "      <td>2021-06-07</td>\n",
       "      <td>2021-12-11</td>\n",
       "      <td>7</td>\n",
       "      <td>3842.10</td>\n",
       "      <td>548.87</td>\n",
       "      <td>1390</td>\n",
       "      <td>0</td>\n",
       "      <td>Tablet</td>\n",
       "      <td>Books</td>\n",
       "      <td>0</td>\n",
       "    </tr>\n",
       "  </tbody>\n",
       "</table>\n",
       "</div>"
      ],
      "text/plain": [
       "   customer_id   age  gender country signup_date last_purchase_date  \\\n",
       "0        10001  56.0    Male   India  2022-01-27         2024-04-27   \n",
       "1        10002  69.0   Other      UK  2025-01-12         2025-08-01   \n",
       "2        10003  46.0  Female     USA  2021-04-25         2021-06-01   \n",
       "3        10004  32.0    Male   India  2021-02-23         2023-09-22   \n",
       "4        10005  60.0  Female   India  2021-06-07         2021-12-11   \n",
       "\n",
       "   num_orders  total_spent  avg_order_value  recency_days  is_premium_member  \\\n",
       "0          10     13273.25          1327.32           522                  0   \n",
       "1          10          NaN           308.90            61                  0   \n",
       "2           5      3411.83           682.37          1583                  0   \n",
       "3           5      4502.00           900.40           740                  0   \n",
       "4           7      3842.10           548.87          1390                  0   \n",
       "\n",
       "  device_type preferred_category  churned  \n",
       "0         NaN               Home        0  \n",
       "1      Mobile            Grocery        0  \n",
       "2         NaN                NaN        0  \n",
       "3         NaN                NaN        0  \n",
       "4      Tablet              Books        0  "
      ]
     },
     "execution_count": 2,
     "metadata": {},
     "output_type": "execute_result"
    }
   ],
   "source": [
    "df = pd.read_csv('ecommerce_customers_unit1.csv')\n",
    "df.head()"
   ]
  },
  {
   "cell_type": "code",
   "execution_count": 3,
   "metadata": {
    "id": "4SMK3kjkn2-r"
   },
   "outputs": [
    {
     "name": "stdout",
     "output_type": "stream",
     "text": [
      "customer_id            0\n",
      "age                   28\n",
      "gender                34\n",
      "country               32\n",
      "signup_date            0\n",
      "last_purchase_date     0\n",
      "num_orders             0\n",
      "total_spent           34\n",
      "avg_order_value        0\n",
      "recency_days           0\n",
      "is_premium_member      0\n",
      "device_type           30\n",
      "preferred_category    22\n",
      "churned                0\n",
      "dtype: int64\n"
     ]
    }
   ],
   "source": [
    "df.isnull()\n",
    "print(df.isnull().sum())"
   ]
  },
  {
   "cell_type": "code",
   "execution_count": 4,
   "metadata": {
    "id": "z4EXFjQGoEfE"
   },
   "outputs": [
    {
     "name": "stdout",
     "output_type": "stream",
     "text": [
      "count of missing values : 180\n"
     ]
    }
   ],
   "source": [
    "print(\"count of missing values :\",df.isnull().sum().sum())"
   ]
  },
  {
   "cell_type": "code",
   "execution_count": 5,
   "metadata": {
    "id": "73khIKyHoH_E"
   },
   "outputs": [
    {
     "name": "stdout",
     "output_type": "stream",
     "text": [
      "<class 'pandas.core.frame.DataFrame'>\n",
      "RangeIndex: 605 entries, 0 to 604\n",
      "Data columns (total 14 columns):\n",
      " #   Column              Non-Null Count  Dtype  \n",
      "---  ------              --------------  -----  \n",
      " 0   customer_id         605 non-null    int64  \n",
      " 1   age                 577 non-null    float64\n",
      " 2   gender              571 non-null    object \n",
      " 3   country             573 non-null    object \n",
      " 4   signup_date         605 non-null    object \n",
      " 5   last_purchase_date  605 non-null    object \n",
      " 6   num_orders          605 non-null    int64  \n",
      " 7   total_spent         571 non-null    float64\n",
      " 8   avg_order_value     605 non-null    float64\n",
      " 9   recency_days        605 non-null    int64  \n",
      " 10  is_premium_member   605 non-null    int64  \n",
      " 11  device_type         575 non-null    object \n",
      " 12  preferred_category  583 non-null    object \n",
      " 13  churned             605 non-null    int64  \n",
      "dtypes: float64(3), int64(5), object(6)\n",
      "memory usage: 66.3+ KB\n"
     ]
    }
   ],
   "source": [
    "df.info()"
   ]
  },
  {
   "cell_type": "code",
   "execution_count": 6,
   "metadata": {
    "id": "sIZh5Xodoyjs"
   },
   "outputs": [
    {
     "data": {
      "application/vnd.microsoft.datawrangler.viewer.v0+json": {
       "columns": [
        {
         "name": "index",
         "rawType": "object",
         "type": "string"
        },
        {
         "name": "customer_id",
         "rawType": "float64",
         "type": "float"
        },
        {
         "name": "age",
         "rawType": "float64",
         "type": "float"
        },
        {
         "name": "num_orders",
         "rawType": "float64",
         "type": "float"
        },
        {
         "name": "total_spent",
         "rawType": "float64",
         "type": "float"
        },
        {
         "name": "avg_order_value",
         "rawType": "float64",
         "type": "float"
        },
        {
         "name": "recency_days",
         "rawType": "float64",
         "type": "float"
        },
        {
         "name": "is_premium_member",
         "rawType": "float64",
         "type": "float"
        },
        {
         "name": "churned",
         "rawType": "float64",
         "type": "float"
        }
       ],
       "ref": "260bfd33-0166-4f98-be6c-96fe6043185e",
       "rows": [
        [
         "count",
         "605.0",
         "577.0",
         "605.0",
         "571.0",
         "605.0",
         "605.0",
         "605.0",
         "605.0"
        ],
        [
         "mean",
         "10301.439669421488",
         "44.175043327556324",
         "5.945454545454545",
         "8059.212136602453",
         "1279.37747107438",
         "456.0297520661157",
         "0.29421487603305785",
         "0.03636363636363636"
        ],
        [
         "std",
         "173.63607107596764",
         "14.978765097996787",
         "2.332891790452413",
         "10346.78185631823",
         "1123.8418404709344",
         "405.8103891733566",
         "0.4560660897887043",
         "0.18734817252469899"
        ],
        [
         "min",
         "10001.0",
         "18.0",
         "0.0",
         "0.0",
         "0.0",
         "1.0",
         "0.0",
         "0.0"
        ],
        [
         "25%",
         "10151.0",
         "32.0",
         "4.0",
         "3920.6400000000003",
         "795.78",
         "128.0",
         "0.0",
         "0.0"
        ],
        [
         "50%",
         "10302.0",
         "45.0",
         "6.0",
         "6533.98",
         "1152.53",
         "327.0",
         "0.0",
         "0.0"
        ],
        [
         "75%",
         "10451.0",
         "56.0",
         "7.0",
         "9523.01",
         "1615.03",
         "696.0",
         "1.0",
         "0.0"
        ],
        [
         "max",
         "10600.0",
         "69.0",
         "13.0",
         "123891.81",
         "11431.9",
         "1685.0",
         "1.0",
         "1.0"
        ]
       ],
       "shape": {
        "columns": 8,
        "rows": 8
       }
      },
      "text/html": [
       "<div>\n",
       "<style scoped>\n",
       "    .dataframe tbody tr th:only-of-type {\n",
       "        vertical-align: middle;\n",
       "    }\n",
       "\n",
       "    .dataframe tbody tr th {\n",
       "        vertical-align: top;\n",
       "    }\n",
       "\n",
       "    .dataframe thead th {\n",
       "        text-align: right;\n",
       "    }\n",
       "</style>\n",
       "<table border=\"1\" class=\"dataframe\">\n",
       "  <thead>\n",
       "    <tr style=\"text-align: right;\">\n",
       "      <th></th>\n",
       "      <th>customer_id</th>\n",
       "      <th>age</th>\n",
       "      <th>num_orders</th>\n",
       "      <th>total_spent</th>\n",
       "      <th>avg_order_value</th>\n",
       "      <th>recency_days</th>\n",
       "      <th>is_premium_member</th>\n",
       "      <th>churned</th>\n",
       "    </tr>\n",
       "  </thead>\n",
       "  <tbody>\n",
       "    <tr>\n",
       "      <th>count</th>\n",
       "      <td>605.000000</td>\n",
       "      <td>577.000000</td>\n",
       "      <td>605.000000</td>\n",
       "      <td>571.000000</td>\n",
       "      <td>605.000000</td>\n",
       "      <td>605.000000</td>\n",
       "      <td>605.000000</td>\n",
       "      <td>605.000000</td>\n",
       "    </tr>\n",
       "    <tr>\n",
       "      <th>mean</th>\n",
       "      <td>10301.439669</td>\n",
       "      <td>44.175043</td>\n",
       "      <td>5.945455</td>\n",
       "      <td>8059.212137</td>\n",
       "      <td>1279.377471</td>\n",
       "      <td>456.029752</td>\n",
       "      <td>0.294215</td>\n",
       "      <td>0.036364</td>\n",
       "    </tr>\n",
       "    <tr>\n",
       "      <th>std</th>\n",
       "      <td>173.636071</td>\n",
       "      <td>14.978765</td>\n",
       "      <td>2.332892</td>\n",
       "      <td>10346.781856</td>\n",
       "      <td>1123.841840</td>\n",
       "      <td>405.810389</td>\n",
       "      <td>0.456066</td>\n",
       "      <td>0.187348</td>\n",
       "    </tr>\n",
       "    <tr>\n",
       "      <th>min</th>\n",
       "      <td>10001.000000</td>\n",
       "      <td>18.000000</td>\n",
       "      <td>0.000000</td>\n",
       "      <td>0.000000</td>\n",
       "      <td>0.000000</td>\n",
       "      <td>1.000000</td>\n",
       "      <td>0.000000</td>\n",
       "      <td>0.000000</td>\n",
       "    </tr>\n",
       "    <tr>\n",
       "      <th>25%</th>\n",
       "      <td>10151.000000</td>\n",
       "      <td>32.000000</td>\n",
       "      <td>4.000000</td>\n",
       "      <td>3920.640000</td>\n",
       "      <td>795.780000</td>\n",
       "      <td>128.000000</td>\n",
       "      <td>0.000000</td>\n",
       "      <td>0.000000</td>\n",
       "    </tr>\n",
       "    <tr>\n",
       "      <th>50%</th>\n",
       "      <td>10302.000000</td>\n",
       "      <td>45.000000</td>\n",
       "      <td>6.000000</td>\n",
       "      <td>6533.980000</td>\n",
       "      <td>1152.530000</td>\n",
       "      <td>327.000000</td>\n",
       "      <td>0.000000</td>\n",
       "      <td>0.000000</td>\n",
       "    </tr>\n",
       "    <tr>\n",
       "      <th>75%</th>\n",
       "      <td>10451.000000</td>\n",
       "      <td>56.000000</td>\n",
       "      <td>7.000000</td>\n",
       "      <td>9523.010000</td>\n",
       "      <td>1615.030000</td>\n",
       "      <td>696.000000</td>\n",
       "      <td>1.000000</td>\n",
       "      <td>0.000000</td>\n",
       "    </tr>\n",
       "    <tr>\n",
       "      <th>max</th>\n",
       "      <td>10600.000000</td>\n",
       "      <td>69.000000</td>\n",
       "      <td>13.000000</td>\n",
       "      <td>123891.810000</td>\n",
       "      <td>11431.900000</td>\n",
       "      <td>1685.000000</td>\n",
       "      <td>1.000000</td>\n",
       "      <td>1.000000</td>\n",
       "    </tr>\n",
       "  </tbody>\n",
       "</table>\n",
       "</div>"
      ],
      "text/plain": [
       "        customer_id         age  num_orders    total_spent  avg_order_value  \\\n",
       "count    605.000000  577.000000  605.000000     571.000000       605.000000   \n",
       "mean   10301.439669   44.175043    5.945455    8059.212137      1279.377471   \n",
       "std      173.636071   14.978765    2.332892   10346.781856      1123.841840   \n",
       "min    10001.000000   18.000000    0.000000       0.000000         0.000000   \n",
       "25%    10151.000000   32.000000    4.000000    3920.640000       795.780000   \n",
       "50%    10302.000000   45.000000    6.000000    6533.980000      1152.530000   \n",
       "75%    10451.000000   56.000000    7.000000    9523.010000      1615.030000   \n",
       "max    10600.000000   69.000000   13.000000  123891.810000     11431.900000   \n",
       "\n",
       "       recency_days  is_premium_member     churned  \n",
       "count    605.000000         605.000000  605.000000  \n",
       "mean     456.029752           0.294215    0.036364  \n",
       "std      405.810389           0.456066    0.187348  \n",
       "min        1.000000           0.000000    0.000000  \n",
       "25%      128.000000           0.000000    0.000000  \n",
       "50%      327.000000           0.000000    0.000000  \n",
       "75%      696.000000           1.000000    0.000000  \n",
       "max     1685.000000           1.000000    1.000000  "
      ]
     },
     "execution_count": 6,
     "metadata": {},
     "output_type": "execute_result"
    }
   ],
   "source": [
    "df.describe()"
   ]
  },
  {
   "cell_type": "code",
   "execution_count": 7,
   "metadata": {
    "id": "KDj9ifHgoM47"
   },
   "outputs": [
    {
     "data": {
      "text/plain": [
       "(605, 14)"
      ]
     },
     "execution_count": 7,
     "metadata": {},
     "output_type": "execute_result"
    }
   ],
   "source": [
    "df.shape"
   ]
  },
  {
   "cell_type": "code",
   "execution_count": 8,
   "metadata": {
    "id": "F6SrpinhpcqN"
   },
   "outputs": [
    {
     "name": "stdout",
     "output_type": "stream",
     "text": [
      "gender                34\n",
      "total_spent           34\n",
      "country               32\n",
      "device_type           30\n",
      "age                   28\n",
      "preferred_category    22\n",
      "last_purchase_date     0\n",
      "signup_date            0\n",
      "customer_id            0\n",
      "num_orders             0\n",
      "recency_days           0\n",
      "avg_order_value        0\n",
      "is_premium_member      0\n",
      "churned                0\n",
      "dtype: int64\n"
     ]
    }
   ],
   "source": [
    "missing_counts = df.isnull().sum().sort_values(ascending=False)\n",
    "print(missing_counts)"
   ]
  },
  {
   "cell_type": "code",
   "execution_count": 9,
   "metadata": {
    "id": "7qsoPVlYqbYz"
   },
   "outputs": [
    {
     "data": {
      "image/png": "[encoded data removed]",
      "text/plain": [
       "<Figure size 640x480 with 1 Axes>"
      ]
     },
     "metadata": {},
     "output_type": "display_data"
    }
   ],
   "source": [
    "plt.bar(missing_counts.index, missing_counts.values)\n",
    "plt.xlabel('Column')\n",
    "plt.ylabel('Missing Value Count')\n",
    "plt.title('Missing Value Count by Column')\n",
    "plt.xticks(rotation=90)\n",
    "plt.tight_layout()\n",
    "plt.show()"
   ]
  },
  {
   "cell_type": "code",
   "execution_count": 10,
   "metadata": {
    "id": "vz-dpcE7q8l4"
   },
   "outputs": [
    {
     "data": {
      "image/png": "[encoded data removed]",
      "text/plain": [
       "<Figure size 800x400 with 1 Axes>"
      ]
     },
     "metadata": {},
     "output_type": "display_data"
    }
   ],
   "source": [
    "#plot missing count bar chart\n",
    "plt.figure(figsize=(8,4))\n",
    "missing_counts.plot(kind='bar')\n",
    "plt.xlabel('Column')\n",
    "plt.ylabel('Missing Value Count')\n",
    "plt.title('Missing Value Count by Column')\n",
    "plt.xticks(rotation=90)\n",
    "plt.tight_layout()\n",
    "plt.show()"
   ]
  },
  {
   "cell_type": "code",
   "execution_count": 11,
   "metadata": {
    "id": "4e8xEWRis1u6"
   },
   "outputs": [
    {
     "name": "stdout",
     "output_type": "stream",
     "text": [
      "0      56.0\n",
      "1      69.0\n",
      "2      46.0\n",
      "3      32.0\n",
      "4      60.0\n",
      "       ... \n",
      "600    25.0\n",
      "601    50.0\n",
      "602    46.0\n",
      "603    32.0\n",
      "604    44.0\n",
      "Name: age, Length: 605, dtype: float64\n"
     ]
    }
   ],
   "source": [
    "#handling missing values\n",
    "df['age'] = df['age'].fillna(df['age'].mean())\n",
    "print(df['age'])"
   ]
  },
  {
   "cell_type": "code",
   "execution_count": 12,
   "metadata": {
    "id": "HiUbQx0-ocnm"
   },
   "outputs": [
    {
     "name": "stdout",
     "output_type": "stream",
     "text": [
      "customer_id           0\n",
      "age                   0\n",
      "gender                0\n",
      "country               0\n",
      "signup_date           0\n",
      "last_purchase_date    0\n",
      "num_orders            0\n",
      "total_spent           0\n",
      "avg_order_value       0\n",
      "recency_days          0\n",
      "is_premium_member     0\n",
      "device_type           0\n",
      "preferred_category    0\n",
      "churned               0\n",
      "dtype: int64\n"
     ]
    }
   ],
   "source": [
    "df.fillna(df.select_dtypes(include='number').mean(),inplace=True)\n",
    "df.fillna(df.select_dtypes(include='object').mode().iloc[0],inplace=True)\n",
    "print(df.isnull().sum())"
   ]
  },
  {
   "cell_type": "markdown",
   "metadata": {
    "id": "ioHw4q_bJX1x"
   },
   "source": [
    "# Inter Quartile range"
   ]
  },
  {
   "cell_type": "code",
   "execution_count": 13,
   "metadata": {
    "id": "nSAKfwsQr0J9"
   },
   "outputs": [
    {
     "name": "stdout",
     "output_type": "stream",
     "text": [
      "5279.35\n"
     ]
    }
   ],
   "source": [
    "q1 = df['total_spent'].quantile(0.25)\n",
    "q3 = df['total_spent'].quantile(0.75)\n",
    "iqr = q3 - q1\n",
    "print(iqr)"
   ]
  },
  {
   "cell_type": "markdown",
   "metadata": {
    "id": "6oPJPK8yKMoB"
   },
   "source": [
    "Lb = q1 + (1.5*IQR)\n",
    "\n",
    "---\n",
    "\n",
    "\n",
    "Ub = q3 - (1.5*IQR)"
   ]
  },
  {
   "cell_type": "code",
   "execution_count": 14,
   "metadata": {
    "id": "PYAAD1lSse8y"
   },
   "outputs": [
    {
     "name": "stdout",
     "output_type": "stream",
     "text": [
      "Lower Bound: -3838.5250000000005\n",
      "upper Bound: 17278.875\n"
     ]
    }
   ],
   "source": [
    "lb = q1-(1.5*iqr)\n",
    "ub = q3+(1.5*iqr)\n",
    "print(\"Lower Bound:\",lb)\n",
    "print(\"upper Bound:\",ub)"
   ]
  },
  {
   "cell_type": "code",
   "execution_count": 15,
   "metadata": {
    "id": "JrSeuVFsJefM"
   },
   "outputs": [
    {
     "data": {
      "image/png": "[encoded data removed]",
      "text/plain": [
       "<Figure size 640x480 with 1 Axes>"
      ]
     },
     "metadata": {},
     "output_type": "display_data"
    }
   ],
   "source": [
    "plt.boxplot(df['total_spent'])\n",
    "plt.title(\"Box plot of total_spent\")\n",
    "plt.ylabel('Total spent')\n",
    "plt.tight_layout()\n",
    "plt.show()"
   ]
  },
  {
   "cell_type": "code",
   "execution_count": 16,
   "metadata": {
    "id": "rjun5jzONkOx"
   },
   "outputs": [
    {
     "name": "stdout",
     "output_type": "stream",
     "text": [
      "Numeric columns: Index(['customer_id', 'age', 'num_orders', 'total_spent', 'avg_order_value',\n",
      "       'recency_days', 'is_premium_member', 'churned'],\n",
      "      dtype='object')\n",
      "Numeric columns: ['customer_id', 'age', 'num_orders', 'total_spent', 'avg_order_value', 'recency_days', 'is_premium_member', 'churned']\n"
     ]
    }
   ],
   "source": [
    "nums_cols = df.select_dtypes(include='number').columns\n",
    "print(\"Numeric columns:\", nums_cols)\n",
    "print(\"Numeric columns:\", nums_cols.tolist())"
   ]
  },
  {
   "cell_type": "code",
   "execution_count": 17,
   "metadata": {
    "id": "PxlhNhaRN9WZ"
   },
   "outputs": [
    {
     "name": "stdout",
     "output_type": "stream",
     "text": [
      "   customer_id       age  gender country signup_date last_purchase_date  \\\n",
      "0     0.000000  0.745098    Male   India  2022-01-27         2024-04-27   \n",
      "1     0.001669  1.000000   Other      UK  2025-01-12         2025-08-01   \n",
      "2     0.003339  0.549020  Female     USA  2021-04-25         2021-06-01   \n",
      "3     0.005008  0.274510    Male   India  2021-02-23         2023-09-22   \n",
      "4     0.006678  0.823529  Female   India  2021-06-07         2021-12-11   \n",
      "\n",
      "   num_orders  total_spent  avg_order_value  recency_days  is_premium_member  \\\n",
      "0    0.769231     0.107136         0.116107      0.309382                0.0   \n",
      "1    0.769231     0.065050         0.027021      0.035629                0.0   \n",
      "2    0.384615     0.027539         0.059690      0.939430                0.0   \n",
      "3    0.384615     0.036338         0.078762      0.438836                0.0   \n",
      "4    0.538462     0.031012         0.048012      0.824822                0.0   \n",
      "\n",
      "  device_type preferred_category  churned  \n",
      "0      Mobile               Home      0.0  \n",
      "1      Mobile            Grocery      0.0  \n",
      "2      Mobile            Grocery      0.0  \n",
      "3      Mobile            Grocery      0.0  \n",
      "4      Tablet              Books      0.0  \n"
     ]
    }
   ],
   "source": [
    "#create a  scalar Object\n",
    "normalizer = MinMaxScaler()\n",
    "#fit and transform the data\n",
    "#applying normalization\n",
    "df_normalized = df.copy()\n",
    "df_normalized[nums_cols] = normalizer.fit_transform(df[nums_cols])\n",
    "print(df_normalized.head())"
   ]
  },
  {
   "cell_type": "code",
   "execution_count": 18,
   "metadata": {
    "id": "Tn0FaNo9Ll-k"
   },
   "outputs": [
    {
     "name": "stdout",
     "output_type": "stream",
     "text": [
      "Normalization values\n",
      "   customer_id       age  gender country signup_date last_purchase_date  \\\n",
      "0    -1.731715  0.809077    Male   India  2022-01-27         2024-04-27   \n",
      "1    -1.725952  1.698552   Other      UK  2025-01-12         2025-08-01   \n",
      "2    -1.720188  0.124866  Female     USA  2021-04-25         2021-06-01   \n",
      "3    -1.714424 -0.833031    Male   India  2021-02-23         2023-09-22   \n",
      "4    -1.708660  1.082762  Female   India  2021-06-07         2021-12-11   \n",
      "\n",
      "   num_orders   total_spent  avg_order_value  recency_days  is_premium_member  \\\n",
      "0    1.739429  5.191695e-01         0.042695      0.162699          -0.645648   \n",
      "1    1.739429  1.811195e-16        -0.864250     -0.974240          -0.645648   \n",
      "2   -0.405607 -4.627467e-01        -0.531660      2.779384          -0.645648   \n",
      "3   -0.405607 -3.541969e-01        -0.337495      0.700340          -0.645648   \n",
      "4    0.452408 -4.199041e-01        -0.650547      2.303399          -0.645648   \n",
      "\n",
      "  device_type preferred_category   churned  \n",
      "0      Mobile               Home -0.194257  \n",
      "1      Mobile            Grocery -0.194257  \n",
      "2      Mobile            Grocery -0.194257  \n",
      "3      Mobile            Grocery -0.194257  \n",
      "4      Tablet              Books -0.194257  \n",
      "Standardization values\n",
      "   customer_id       age  gender country signup_date last_purchase_date  \\\n",
      "0     0.000000  0.745098    Male   India  2022-01-27         2024-04-27   \n",
      "1     0.001669  1.000000   Other      UK  2025-01-12         2025-08-01   \n",
      "2     0.003339  0.549020  Female     USA  2021-04-25         2021-06-01   \n",
      "3     0.005008  0.274510    Male   India  2021-02-23         2023-09-22   \n",
      "4     0.006678  0.823529  Female   India  2021-06-07         2021-12-11   \n",
      "\n",
      "   num_orders  total_spent  avg_order_value  recency_days  is_premium_member  \\\n",
      "0    0.769231     0.107136         0.116107      0.309382                0.0   \n",
      "1    0.769231     0.065050         0.027021      0.035629                0.0   \n",
      "2    0.384615     0.027539         0.059690      0.939430                0.0   \n",
      "3    0.384615     0.036338         0.078762      0.438836                0.0   \n",
      "4    0.538462     0.031012         0.048012      0.824822                0.0   \n",
      "\n",
      "  device_type preferred_category  churned  \n",
      "0      Mobile               Home      0.0  \n",
      "1      Mobile            Grocery      0.0  \n",
      "2      Mobile            Grocery      0.0  \n",
      "3      Mobile            Grocery      0.0  \n",
      "4      Tablet              Books      0.0  \n"
     ]
    }
   ],
   "source": [
    "#standardization\n",
    "std = StandardScaler()\n",
    "df_std = df.copy()\n",
    "df_std[nums_cols] = std.fit_transform(df[nums_cols])\n",
    "print(\"Normalization values\")\n",
    "print(df_std.head())\n",
    "\n",
    "#normalization\n",
    "norm = MinMaxScaler()\n",
    "df_norm = df.copy()\n",
    "df_norm[nums_cols] = norm.fit_transform(df[nums_cols])\n",
    "print(\"Standardization values\")\n",
    "print(df_norm.head())"
   ]
  },
  {
   "cell_type": "code",
   "execution_count": 19,
   "metadata": {
    "id": "tzOhc5zLSge_"
   },
   "outputs": [
    {
     "name": "stdout",
     "output_type": "stream",
     "text": [
      "Before scaling\n",
      "        customer_id         age  num_orders    total_spent  avg_order_value  \\\n",
      "count    605.000000  605.000000  605.000000     605.000000       605.000000   \n",
      "mean   10301.439669   44.175043    5.945455    8059.212137      1279.377471   \n",
      "std      173.636071   14.627455    2.332892   10051.346655      1123.841840   \n",
      "min    10001.000000   18.000000    0.000000       0.000000         0.000000   \n",
      "25%    10151.000000   33.000000    4.000000    4080.500000       795.780000   \n",
      "50%    10302.000000   44.175043    6.000000    6839.700000      1152.530000   \n",
      "75%    10451.000000   56.000000    7.000000    9359.850000      1615.030000   \n",
      "max    10600.000000   69.000000   13.000000  123891.810000     11431.900000   \n",
      "\n",
      "       recency_days  is_premium_member     churned  \n",
      "count    605.000000         605.000000  605.000000  \n",
      "mean     456.029752           0.294215    0.036364  \n",
      "std      405.810389           0.456066    0.187348  \n",
      "min        1.000000           0.000000    0.000000  \n",
      "25%      128.000000           0.000000    0.000000  \n",
      "50%      327.000000           0.000000    0.000000  \n",
      "75%      696.000000           1.000000    0.000000  \n",
      "max     1685.000000           1.000000    1.000000  \n",
      "     customer_id   age  num_orders   total_spent  avg_order_value  \\\n",
      "0          10001  56.0          10  13273.250000          1327.32   \n",
      "1          10002  69.0          10   8059.212137           308.90   \n",
      "2          10003  46.0           5   3411.830000           682.37   \n",
      "3          10004  32.0           5   4502.000000           900.40   \n",
      "4          10005  60.0           7   3842.100000           548.87   \n",
      "..           ...   ...         ...           ...              ...   \n",
      "600        10358  25.0           7   8059.212137             0.00   \n",
      "601        10117  50.0           4   3640.070000           910.02   \n",
      "602        10599  46.0           6   2176.220000           362.70   \n",
      "603        10442  32.0           3   5478.650000          1826.22   \n",
      "604        10555  44.0           6   5408.130000           901.36   \n",
      "\n",
      "     recency_days  is_premium_member  churned  \n",
      "0             522                  0        0  \n",
      "1              61                  0        0  \n",
      "2            1583                  0        0  \n",
      "3             740                  0        0  \n",
      "4            1390                  0        0  \n",
      "..            ...                ...      ...  \n",
      "600           105                  1        0  \n",
      "601           327                  0        0  \n",
      "602           463                  1        0  \n",
      "603           376                  0        0  \n",
      "604           296                  0        0  \n",
      "\n",
      "[605 rows x 8 columns]\n"
     ]
    }
   ],
   "source": [
    "#print results after scaling\n",
    "print(\"Before scaling\")\n",
    "print(df[nums_cols].describe())\n",
    "print(df[nums_cols])"
   ]
  },
  {
   "cell_type": "code",
   "execution_count": 20,
   "metadata": {
    "id": "VqdWy3J6Tr3d"
   },
   "outputs": [
    {
     "name": "stdout",
     "output_type": "stream",
     "text": [
      "After Normalization\n",
      "       customer_id         age  num_orders  total_spent  avg_order_value  \\\n",
      "count   605.000000  605.000000  605.000000   605.000000       605.000000   \n",
      "mean      0.501569    0.513236    0.457343     0.065050         0.111913   \n",
      "std       0.289877    0.286813    0.179453     0.081130         0.098308   \n",
      "min       0.000000    0.000000    0.000000     0.000000         0.000000   \n",
      "25%       0.250417    0.294118    0.307692     0.032936         0.069610   \n",
      "50%       0.502504    0.513236    0.461538     0.055207         0.100817   \n",
      "75%       0.751252    0.745098    0.538462     0.075549         0.141274   \n",
      "max       1.000000    1.000000    1.000000     1.000000         1.000000   \n",
      "\n",
      "       recency_days  is_premium_member     churned  \n",
      "count    605.000000         605.000000  605.000000  \n",
      "mean       0.270208           0.294215    0.036364  \n",
      "std        0.240980           0.456066    0.187348  \n",
      "min        0.000000           0.000000    0.000000  \n",
      "25%        0.075416           0.000000    0.000000  \n",
      "50%        0.193587           0.000000    0.000000  \n",
      "75%        0.412708           1.000000    0.000000  \n",
      "max        1.000000           1.000000    1.000000  \n",
      "     customer_id       age  num_orders  total_spent  avg_order_value  \\\n",
      "0       0.000000  0.745098    0.769231     0.107136         0.116107   \n",
      "1       0.001669  1.000000    0.769231     0.065050         0.027021   \n",
      "2       0.003339  0.549020    0.384615     0.027539         0.059690   \n",
      "3       0.005008  0.274510    0.384615     0.036338         0.078762   \n",
      "4       0.006678  0.823529    0.538462     0.031012         0.048012   \n",
      "..           ...       ...         ...          ...              ...   \n",
      "600     0.595993  0.137255    0.538462     0.065050         0.000000   \n",
      "601     0.193656  0.627451    0.307692     0.029381         0.079604   \n",
      "602     0.998331  0.549020    0.461538     0.017565         0.031727   \n",
      "603     0.736227  0.274510    0.230769     0.044221         0.159748   \n",
      "604     0.924875  0.509804    0.461538     0.043652         0.078846   \n",
      "\n",
      "     recency_days  is_premium_member  churned  \n",
      "0        0.309382                0.0      0.0  \n",
      "1        0.035629                0.0      0.0  \n",
      "2        0.939430                0.0      0.0  \n",
      "3        0.438836                0.0      0.0  \n",
      "4        0.824822                0.0      0.0  \n",
      "..            ...                ...      ...  \n",
      "600      0.061758                1.0      0.0  \n",
      "601      0.193587                0.0      0.0  \n",
      "602      0.274347                1.0      0.0  \n",
      "603      0.222684                0.0      0.0  \n",
      "604      0.175178                0.0      0.0  \n",
      "\n",
      "[605 rows x 8 columns]\n"
     ]
    }
   ],
   "source": [
    "print(\"After Normalization\")\n",
    "print(df_norm[nums_cols].describe())\n",
    "print(df_norm[nums_cols])"
   ]
  },
  {
   "cell_type": "code",
   "execution_count": 21,
   "metadata": {
    "id": "Y2opvEG0TyUy"
   },
   "outputs": [
    {
     "name": "stdout",
     "output_type": "stream",
     "text": [
      "After Standardization\n",
      "        customer_id           age    num_orders   total_spent  \\\n",
      "count  6.050000e+02  6.050000e+02  6.050000e+02  6.050000e+02   \n",
      "mean  -4.321979e-15 -3.611436e-16  7.633930e-17  6.606286e-17   \n",
      "std    1.000827e+00  1.000827e+00  1.000827e+00  1.000827e+00   \n",
      "min   -1.731715e+00 -1.790927e+00 -2.550643e+00 -8.024677e-01   \n",
      "25%   -8.671249e-01 -7.646094e-01 -8.346141e-01 -3.961663e-01   \n",
      "50%    3.229710e-03 -4.861616e-16  2.340040e-02 -1.214286e-01   \n",
      "75%    8.620564e-01  8.090773e-01  4.524076e-01  1.295064e-01   \n",
      "max    1.720883e+00  1.698552e+00  3.026451e+00  1.153362e+01   \n",
      "\n",
      "       avg_order_value  recency_days  is_premium_member       churned  \n",
      "count     6.050000e+02  6.050000e+02       6.050000e+02  6.050000e+02  \n",
      "mean      7.633930e-17  4.110578e-17       2.055289e-17  4.257384e-17  \n",
      "std       1.000827e+00  1.000827e+00       1.000827e+00  1.000827e+00  \n",
      "min      -1.139338e+00 -1.122214e+00      -6.456484e-01 -1.942572e-01  \n",
      "25%      -4.306635e-01 -8.090014e-01      -6.456484e-01 -1.942572e-01  \n",
      "50%      -1.129629e-01 -3.182189e-01      -6.456484e-01 -1.942572e-01  \n",
      "75%       2.989124e-01  5.918252e-01       1.548831e+00 -1.942572e-01  \n",
      "max       9.041240e+00  3.030941e+00       1.548831e+00  5.147815e+00  \n",
      "     customer_id       age  num_orders   total_spent  avg_order_value  \\\n",
      "0      -1.731715  0.809077    1.739429  5.191695e-01         0.042695   \n",
      "1      -1.725952  1.698552    1.739429  1.811195e-16        -0.864250   \n",
      "2      -1.720188  0.124866   -0.405607 -4.627467e-01        -0.531660   \n",
      "3      -1.714424 -0.833031   -0.405607 -3.541969e-01        -0.337495   \n",
      "4      -1.708660  1.082762    0.452408 -4.199041e-01        -0.650547   \n",
      "..           ...       ...         ...           ...              ...   \n",
      "600     0.326010 -1.311979    0.452408  1.811195e-16        -1.139338   \n",
      "601    -1.063099  0.398550   -0.834614 -4.400205e-01        -0.328928   \n",
      "602     1.715119  0.124866    0.023400 -5.857782e-01        -0.816339   \n",
      "603     0.810181 -0.833031   -1.263621 -2.569504e-01         0.486986   \n",
      "604     1.461506 -0.011977    0.023400 -2.639722e-01        -0.336640   \n",
      "\n",
      "     recency_days  is_premium_member   churned  \n",
      "0        0.162699          -0.645648 -0.194257  \n",
      "1       -0.974240          -0.645648 -0.194257  \n",
      "2        2.779384          -0.645648 -0.194257  \n",
      "3        0.700340          -0.645648 -0.194257  \n",
      "4        2.303399          -0.645648 -0.194257  \n",
      "..            ...                ...       ...  \n",
      "600     -0.865725           1.548831 -0.194257  \n",
      "601     -0.318219          -0.645648 -0.194257  \n",
      "602      0.017190           1.548831 -0.194257  \n",
      "603     -0.197373          -0.645648 -0.194257  \n",
      "604     -0.394672          -0.645648 -0.194257  \n",
      "\n",
      "[605 rows x 8 columns]\n"
     ]
    }
   ],
   "source": [
    "print(\"After Standardization\")\n",
    "print(df_std[nums_cols].describe())\n",
    "print(df_std[nums_cols])"
   ]
  },
  {
   "cell_type": "code",
   "execution_count": 22,
   "metadata": {
    "id": "4UPG_Zx1VMoG"
   },
   "outputs": [
    {
     "name": "stdout",
     "output_type": "stream",
     "text": [
      "0.04261258270421588\n"
     ]
    }
   ],
   "source": [
    "q1 = df_norm['total_spent'].quantile(0.25)\n",
    "q3 = df_norm['total_spent'].quantile(0.75)\n",
    "iqr = q3 - q1\n",
    "print(iqr)"
   ]
  },
  {
   "cell_type": "code",
   "execution_count": 23,
   "metadata": {
    "id": "2hq8yDrfVRQI"
   },
   "outputs": [
    {
     "name": "stdout",
     "output_type": "stream",
     "text": [
      "Lower Bound: -0.030982879336414575\n",
      "upper Bound: 0.13946745148044895\n"
     ]
    }
   ],
   "source": [
    "lb = q1-(1.5*iqr)\n",
    "ub = q3+(1.5*iqr)\n",
    "print(\"Lower Bound:\",lb)\n",
    "print(\"upper Bound:\",ub)"
   ]
  },
  {
   "cell_type": "code",
   "execution_count": 24,
   "metadata": {
    "id": "TmfY3EgpUm_I"
   },
   "outputs": [
    {
     "data": {
      "image/png": "[encoded data removed]",
      "text/plain": [
       "<Figure size 640x480 with 1 Axes>"
      ]
     },
     "metadata": {},
     "output_type": "display_data"
    }
   ],
   "source": [
    "plt.boxplot(df_std['total_spent'])\n",
    "plt.title(\"Box plot of total_spent\")\n",
    "plt.ylabel('Total spent')\n",
    "plt.tight_layout()\n",
    "plt.show()"
   ]
  },
  {
   "cell_type": "code",
   "execution_count": null,
   "metadata": {
    "id": "e6Ti2mwPV05W"
   },
   "outputs": [],
   "source": []
  }
 ],
 "metadata": {
  "colab": {
   "authorship_tag": "ABX9TyM1wCoMDVo/QxCs5sBSHoVb",
   "private_outputs": true,
   "provenance": []
  },
  "kernelspec": {
   "display_name": "Python 3",
   "name": "python3"
  },
  "language_info": {
   "codemirror_mode": {
    "name": "ipython",
    "version": 3
   },
   "file_extension": ".py",
   "mimetype": "text/x-python",
   "name": "python",
   "nbconvert_exporter": "python",
   "pygments_lexer": "ipython3",
   "version": "3.11.9"
  }
 },
 "nbformat": 4,
 "nbformat_minor": 0
}
