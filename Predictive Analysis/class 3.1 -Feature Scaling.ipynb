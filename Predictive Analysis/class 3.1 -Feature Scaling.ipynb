{
 "cells": [
  {
   "cell_type": "code",
   "execution_count": 1,
   "metadata": {
    "id": "oZGU8oX6UnX5"
   },
   "outputs": [],
   "source": [
    "import pandas as pd\n",
    "from sklearn.preprocessing import MinMaxScaler, StandardScaler"
   ]
  },
  {
   "cell_type": "code",
   "execution_count": 2,
   "metadata": {
    "id": "N1atrheHgXEb"
   },
   "outputs": [
    {
     "name": "stdout",
     "output_type": "stream",
     "text": [
      "    Age  income\n",
      "0    18   18000\n",
      "1    22   20000\n",
      "2    25   23000\n",
      "3    32   30000\n",
      "4    33   35000\n",
      "5    36   36000\n",
      "6    38   43000\n",
      "7    41   54000\n",
      "8    45   60000\n",
      "9    47   63000\n",
      "10   48   75000\n",
      "11   50  100000\n",
      "12   52  150000\n",
      "13   60  200000\n"
     ]
    }
   ],
   "source": [
    "data = {'Age' : [18,22,25,32,33,36,38,41,45,47,48,50,52,60],\n",
    "  'income' : [18000,20000,23000,30000,35000,36000,43000,54000,60000,63000,75000,100000,150000,200000]\n",
    "}\n",
    "df = pd.DataFrame(data)\n",
    "print(df)"
   ]
  },
  {
   "cell_type": "markdown",
   "metadata": {
    "id": "51IkNZwmizvH"
   },
   "source": [
    "#Min max Scaling"
   ]
  },
  {
   "cell_type": "markdown",
   "metadata": {
    "id": "E81N6vg1jzdd"
   },
   "source": [
    "## Normalization"
   ]
  },
  {
   "cell_type": "code",
   "execution_count": 3,
   "metadata": {
    "id": "iyi4lhOeguZL"
   },
   "outputs": [
    {
     "name": "stdout",
     "output_type": "stream",
     "text": [
      "         Age\n",
      "0   0.000000\n",
      "1   0.095238\n",
      "2   0.166667\n",
      "3   0.333333\n",
      "4   0.357143\n",
      "5   0.428571\n",
      "6   0.476190\n",
      "7   0.547619\n",
      "8   0.642857\n",
      "9   0.690476\n",
      "10  0.714286\n",
      "11  0.761905\n",
      "12  0.809524\n",
      "13  1.000000\n"
     ]
    }
   ],
   "source": [
    "#Normalization (0-1 range)\n",
    "norm = MinMaxScaler()\n",
    "# df_norm = pd.DataFrame(norm.fit_transform(df), columns=df.columns)\n",
    "df_norm = pd.DataFrame(norm.fit_transform(df[['Age']]), columns=df[['Age']].columns)\n",
    "print(df_norm)"
   ]
  },
  {
   "cell_type": "markdown",
   "metadata": {
    "id": "-oCoC3SsFqDQ"
   },
   "source": [
    "# Z-Score\n"
   ]
  },
  {
   "cell_type": "markdown",
   "metadata": {
    "id": "kbtdxbifjviD"
   },
   "source": [
    "## Standartization"
   ]
  },
  {
   "cell_type": "code",
   "execution_count": 4,
   "metadata": {
    "id": "q9FsbXtXjqRw"
   },
   "outputs": [
    {
     "name": "stdout",
     "output_type": "stream",
     "text": [
      "Standardization values\n",
      "         Age\n",
      "0  -1.791436\n",
      "1  -1.451366\n",
      "2  -1.196315\n",
      "3  -0.601194\n",
      "4  -0.516176\n",
      "5  -0.261125\n",
      "6  -0.091090\n",
      "7   0.163962\n",
      "8   0.504031\n",
      "9   0.674066\n",
      "10  0.759083\n",
      "11  0.929117\n",
      "12  1.099152\n",
      "13  1.779290\n"
     ]
    }
   ],
   "source": [
    "#standardization (mean=0,std=1)\n",
    "std = StandardScaler()\n",
    "df_std = pd.DataFrame(std.fit_transform(df),columns=df.columns)\n",
    "df_std = pd.DataFrame(std.fit_transform(df[['Age']]),columns=df[['Age']].columns)\n",
    "print(\"Standardization values\")\n",
    "print(df_std)"
   ]
  },
  {
   "cell_type": "markdown",
   "metadata": {
    "id": "THZqXrEeGExv"
   },
   "source": [
    "# example"
   ]
  },
  {
   "cell_type": "code",
   "execution_count": 5,
   "metadata": {
    "id": "zGH9PkTSlxjg"
   },
   "outputs": [],
   "source": [
    "df = pd.read_csv('ecommerce_customers_unit1.csv')"
   ]
  },
  {
   "cell_type": "code",
   "execution_count": 6,
   "metadata": {
    "id": "5cx133_AGYKX"
   },
   "outputs": [
    {
     "data": {
      "application/vnd.microsoft.datawrangler.viewer.v0+json": {
       "columns": [
        {
         "name": "index",
         "rawType": "int64",
         "type": "integer"
        },
        {
         "name": "customer_id",
         "rawType": "int64",
         "type": "integer"
        },
        {
         "name": "age",
         "rawType": "float64",
         "type": "float"
        },
        {
         "name": "gender",
         "rawType": "object",
         "type": "string"
        },
        {
         "name": "country",
         "rawType": "object",
         "type": "string"
        },
        {
         "name": "signup_date",
         "rawType": "object",
         "type": "string"
        },
        {
         "name": "last_purchase_date",
         "rawType": "object",
         "type": "string"
        },
        {
         "name": "num_orders",
         "rawType": "int64",
         "type": "integer"
        },
        {
         "name": "total_spent",
         "rawType": "float64",
         "type": "float"
        },
        {
         "name": "avg_order_value",
         "rawType": "float64",
         "type": "float"
        },
        {
         "name": "recency_days",
         "rawType": "int64",
         "type": "integer"
        },
        {
         "name": "is_premium_member",
         "rawType": "int64",
         "type": "integer"
        },
        {
         "name": "device_type",
         "rawType": "object",
         "type": "unknown"
        },
        {
         "name": "preferred_category",
         "rawType": "object",
         "type": "unknown"
        },
        {
         "name": "churned",
         "rawType": "int64",
         "type": "integer"
        }
       ],
       "ref": "d4c08bf1-d49d-49d0-9ecd-0ae9d36be793",
       "rows": [
        [
         "0",
         "10001",
         "56.0",
         "Male",
         "India",
         "2022-01-27",
         "2024-04-27",
         "10",
         "13273.25",
         "1327.32",
         "522",
         "0",
         null,
         "Home",
         "0"
        ],
        [
         "1",
         "10002",
         "69.0",
         "Other",
         "UK",
         "2025-01-12",
         "2025-08-01",
         "10",
         null,
         "308.9",
         "61",
         "0",
         "Mobile",
         "Grocery",
         "0"
        ],
        [
         "2",
         "10003",
         "46.0",
         "Female",
         "USA",
         "2021-04-25",
         "2021-06-01",
         "5",
         "3411.83",
         "682.37",
         "1583",
         "0",
         null,
         null,
         "0"
        ],
        [
         "3",
         "10004",
         "32.0",
         "Male",
         "India",
         "2021-02-23",
         "2023-09-22",
         "5",
         "4502.0",
         "900.4",
         "740",
         "0",
         null,
         null,
         "0"
        ],
        [
         "4",
         "10005",
         "60.0",
         "Female",
         "India",
         "2021-06-07",
         "2021-12-11",
         "7",
         "3842.1",
         "548.87",
         "1390",
         "0",
         "Tablet",
         "Books",
         "0"
        ]
       ],
       "shape": {
        "columns": 14,
        "rows": 5
       }
      },
      "text/html": [
       "<div>\n",
       "<style scoped>\n",
       "    .dataframe tbody tr th:only-of-type {\n",
       "        vertical-align: middle;\n",
       "    }\n",
       "\n",
       "    .dataframe tbody tr th {\n",
       "        vertical-align: top;\n",
       "    }\n",
       "\n",
       "    .dataframe thead th {\n",
       "        text-align: right;\n",
       "    }\n",
       "</style>\n",
       "<table border=\"1\" class=\"dataframe\">\n",
       "  <thead>\n",
       "    <tr style=\"text-align: right;\">\n",
       "      <th></th>\n",
       "      <th>customer_id</th>\n",
       "      <th>age</th>\n",
       "      <th>gender</th>\n",
       "      <th>country</th>\n",
       "      <th>signup_date</th>\n",
       "      <th>last_purchase_date</th>\n",
       "      <th>num_orders</th>\n",
       "      <th>total_spent</th>\n",
       "      <th>avg_order_value</th>\n",
       "      <th>recency_days</th>\n",
       "      <th>is_premium_member</th>\n",
       "      <th>device_type</th>\n",
       "      <th>preferred_category</th>\n",
       "      <th>churned</th>\n",
       "    </tr>\n",
       "  </thead>\n",
       "  <tbody>\n",
       "    <tr>\n",
       "      <th>0</th>\n",
       "      <td>10001</td>\n",
       "      <td>56.0</td>\n",
       "      <td>Male</td>\n",
       "      <td>India</td>\n",
       "      <td>2022-01-27</td>\n",
       "      <td>2024-04-27</td>\n",
       "      <td>10</td>\n",
       "      <td>13273.25</td>\n",
       "      <td>1327.32</td>\n",
       "      <td>522</td>\n",
       "      <td>0</td>\n",
       "      <td>NaN</td>\n",
       "      <td>Home</td>\n",
       "      <td>0</td>\n",
       "    </tr>\n",
       "    <tr>\n",
       "      <th>1</th>\n",
       "      <td>10002</td>\n",
       "      <td>69.0</td>\n",
       "      <td>Other</td>\n",
       "      <td>UK</td>\n",
       "      <td>2025-01-12</td>\n",
       "      <td>2025-08-01</td>\n",
       "      <td>10</td>\n",
       "      <td>NaN</td>\n",
       "      <td>308.90</td>\n",
       "      <td>61</td>\n",
       "      <td>0</td>\n",
       "      <td>Mobile</td>\n",
       "      <td>Grocery</td>\n",
       "      <td>0</td>\n",
       "    </tr>\n",
       "    <tr>\n",
       "      <th>2</th>\n",
       "      <td>10003</td>\n",
       "      <td>46.0</td>\n",
       "      <td>Female</td>\n",
       "      <td>USA</td>\n",
       "      <td>2021-04-25</td>\n",
       "      <td>2021-06-01</td>\n",
       "      <td>5</td>\n",
       "      <td>3411.83</td>\n",
       "      <td>682.37</td>\n",
       "      <td>1583</td>\n",
       "      <td>0</td>\n",
       "      <td>NaN</td>\n",
       "      <td>NaN</td>\n",
       "      <td>0</td>\n",
       "    </tr>\n",
       "    <tr>\n",
       "      <th>3</th>\n",
       "      <td>10004</td>\n",
       "      <td>32.0</td>\n",
       "      <td>Male</td>\n",
       "      <td>India</td>\n",
       "      <td>2021-02-23</td>\n",
       "      <td>2023-09-22</td>\n",
       "      <td>5</td>\n",
       "      <td>4502.00</td>\n",
       "      <td>900.40</td>\n",
       "      <td>740</td>\n",
       "      <td>0</td>\n",
       "      <td>NaN</td>\n",
       "      <td>NaN</td>\n",
       "      <td>0</td>\n",
       "    </tr>\n",
       "    <tr>\n",
       "      <th>4</th>\n",
       "      <td>10005</td>\n",
       "      <td>60.0</td>\n",
       "      <td>Female</td>\n",
       "      <td>India</td>\n",
       "      <td>2021-06-07</td>\n",
       "      <td>2021-12-11</td>\n",
       "      <td>7</td>\n",
       "      <td>3842.10</td>\n",
       "      <td>548.87</td>\n",
       "      <td>1390</td>\n",
       "      <td>0</td>\n",
       "      <td>Tablet</td>\n",
       "      <td>Books</td>\n",
       "      <td>0</td>\n",
       "    </tr>\n",
       "  </tbody>\n",
       "</table>\n",
       "</div>"
      ],
      "text/plain": [
       "   customer_id   age  gender country signup_date last_purchase_date  \\\n",
       "0        10001  56.0    Male   India  2022-01-27         2024-04-27   \n",
       "1        10002  69.0   Other      UK  2025-01-12         2025-08-01   \n",
       "2        10003  46.0  Female     USA  2021-04-25         2021-06-01   \n",
       "3        10004  32.0    Male   India  2021-02-23         2023-09-22   \n",
       "4        10005  60.0  Female   India  2021-06-07         2021-12-11   \n",
       "\n",
       "   num_orders  total_spent  avg_order_value  recency_days  is_premium_member  \\\n",
       "0          10     13273.25          1327.32           522                  0   \n",
       "1          10          NaN           308.90            61                  0   \n",
       "2           5      3411.83           682.37          1583                  0   \n",
       "3           5      4502.00           900.40           740                  0   \n",
       "4           7      3842.10           548.87          1390                  0   \n",
       "\n",
       "  device_type preferred_category  churned  \n",
       "0         NaN               Home        0  \n",
       "1      Mobile            Grocery        0  \n",
       "2         NaN                NaN        0  \n",
       "3         NaN                NaN        0  \n",
       "4      Tablet              Books        0  "
      ]
     },
     "execution_count": 6,
     "metadata": {},
     "output_type": "execute_result"
    }
   ],
   "source": [
    "df.head()"
   ]
  },
  {
   "cell_type": "code",
   "execution_count": 7,
   "metadata": {
    "id": "xtWP1l50GjQ8"
   },
   "outputs": [
    {
     "name": "stdout",
     "output_type": "stream",
     "text": [
      "Normalization values\n",
      "          age\n",
      "0    0.745098\n",
      "1    1.000000\n",
      "2    0.549020\n",
      "3    0.274510\n",
      "4    0.823529\n",
      "..        ...\n",
      "600  0.137255\n",
      "601  0.627451\n",
      "602  0.549020\n",
      "603  0.274510\n",
      "604  0.509804\n",
      "\n",
      "[605 rows x 1 columns]\n",
      "Standardization values\n",
      "          age\n",
      "0    0.790133\n",
      "1    1.658781\n",
      "2    0.121942\n",
      "3   -0.813525\n",
      "4    1.057409\n",
      "..        ...\n",
      "600 -1.281259\n",
      "601  0.389218\n",
      "602  0.121942\n",
      "603 -0.813525\n",
      "604 -0.011696\n",
      "\n",
      "[605 rows x 1 columns]\n"
     ]
    }
   ],
   "source": [
    "#standardization\n",
    "std = StandardScaler()\n",
    "df_std = pd.DataFrame(std.fit_transform(df[['age']]),columns=df[['age']].columns)\n",
    "#normalization\n",
    "norm = MinMaxScaler()\n",
    "df_norm = pd.DataFrame(norm.fit_transform(df[['age']]),columns=df[['age']].columns)\n",
    "\n",
    "print(\"Normalization values\")\n",
    "print(df_norm)\n",
    "\n",
    "print(\"Standardization values\")\n",
    "print(df_std)"
   ]
  }
 ],
 "metadata": {
  "colab": {
   "authorship_tag": "ABX9TyOJrG/mgBW1rTucSzWhA72s",
   "private_outputs": true,
   "provenance": []
  },
  "kernelspec": {
   "display_name": "Python 3",
   "name": "python3"
  },
  "language_info": {
   "codemirror_mode": {
    "name": "ipython",
    "version": 3
   },
   "file_extension": ".py",
   "mimetype": "text/x-python",
   "name": "python",
   "nbconvert_exporter": "python",
   "pygments_lexer": "ipython3",
   "version": "3.11.9"
  }
 },
 "nbformat": 4,
 "nbformat_minor": 0
}
