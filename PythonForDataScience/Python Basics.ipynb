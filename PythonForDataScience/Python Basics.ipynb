{
 "cells": [
  {
   "cell_type": "markdown",
   "id": "0e70728f-8e3c-4a6c-8bf9-5d2632ac203f",
   "metadata": {},
   "source": [
    "# class 1\n",
    "## python basics \n",
    "- dataypes\n",
    "- "
   ]
  },
  {
   "cell_type": "code",
   "execution_count": 4,
   "id": "4c082a43-a2d8-401a-b883-b7db71954493",
   "metadata": {},
   "outputs": [
    {
     "data": {
      "text/plain": [
       "3"
      ]
     },
     "execution_count": 4,
     "metadata": {},
     "output_type": "execute_result"
    }
   ],
   "source": [
    "1+2"
   ]
  },
  {
   "cell_type": "code",
   "execution_count": 6,
   "id": "f8de014f-1443-4d9e-a7b8-29e400f57c14",
   "metadata": {},
   "outputs": [
    {
     "data": {
      "text/plain": [
       "-1"
      ]
     },
     "execution_count": 6,
     "metadata": {},
     "output_type": "execute_result"
    }
   ],
   "source": [
    "1-2"
   ]
  },
  {
   "cell_type": "code",
   "execution_count": 8,
   "id": "6281c971-3ad8-4fb2-afc7-7d3f95c1ef10",
   "metadata": {},
   "outputs": [
    {
     "data": {
      "text/plain": [
       "200"
      ]
     },
     "execution_count": 8,
     "metadata": {},
     "output_type": "execute_result"
    }
   ],
   "source": [
    "10*20"
   ]
  },
  {
   "cell_type": "code",
   "execution_count": 10,
   "id": "99306421-e6ea-46bc-af16-505396278839",
   "metadata": {},
   "outputs": [
    {
     "data": {
      "text/plain": [
       "6.666666666666667"
      ]
     },
     "execution_count": 10,
     "metadata": {},
     "output_type": "execute_result"
    }
   ],
   "source": [
    "20/3"
   ]
  },
  {
   "cell_type": "code",
   "execution_count": 12,
   "id": "de69db53-61eb-4bd4-9073-75bfeed38e1a",
   "metadata": {},
   "outputs": [
    {
     "data": {
      "text/plain": [
       "100"
      ]
     },
     "execution_count": 12,
     "metadata": {},
     "output_type": "execute_result"
    }
   ],
   "source": [
    "10**2"
   ]
  },
  {
   "cell_type": "code",
   "execution_count": 14,
   "id": "5ddc192c-28ba-41a6-9ef0-38472b1959f0",
   "metadata": {},
   "outputs": [
    {
     "data": {
      "text/plain": [
       "'strstrstrstrstrstrstrstrstrstr'"
      ]
     },
     "execution_count": 14,
     "metadata": {},
     "output_type": "execute_result"
    }
   ],
   "source": [
    "10*\"str\""
   ]
  },
  {
   "cell_type": "markdown",
   "id": "7c7d9cfd-82ed-48c5-9730-b0074809a204",
   "metadata": {},
   "source": [
    "# type function is to get the data type"
   ]
  },
  {
   "cell_type": "code",
   "execution_count": 25,
   "id": "9c7b24ba-1e80-409f-ab00-c07c88acde91",
   "metadata": {},
   "outputs": [
    {
     "data": {
      "text/plain": [
       "int"
      ]
     },
     "execution_count": 25,
     "metadata": {},
     "output_type": "execute_result"
    }
   ],
   "source": [
    "type(1)"
   ]
  },
  {
   "cell_type": "code",
   "execution_count": 23,
   "id": "463f242c-a2b7-4a45-b58c-974d0111ee03",
   "metadata": {},
   "outputs": [
    {
     "data": {
      "text/plain": [
       "float"
      ]
     },
     "execution_count": 23,
     "metadata": {},
     "output_type": "execute_result"
    }
   ],
   "source": [
    "type(5.0)"
   ]
  },
  {
   "cell_type": "code",
   "execution_count": 31,
   "id": "3871a0be-dae3-41b3-8d2b-45d377ef0874",
   "metadata": {},
   "outputs": [
    {
     "data": {
      "text/plain": [
       "bool"
      ]
     },
     "execution_count": 31,
     "metadata": {},
     "output_type": "execute_result"
    }
   ],
   "source": [
    "type(\"hello\")\n",
    "type('hi')\n",
    "type(True)"
   ]
  },
  {
   "cell_type": "code",
   "execution_count": 37,
   "id": "b2c22669-6701-46e4-a37c-d16a4099256c",
   "metadata": {},
   "outputs": [
    {
     "name": "stdout",
     "output_type": "stream",
     "text": [
      "asish\n"
     ]
    }
   ],
   "source": [
    "print(\"asish\")"
   ]
  },
  {
   "cell_type": "code",
   "execution_count": 39,
   "id": "3271fab2-0d22-46cb-a6b6-4eef195ac461",
   "metadata": {},
   "outputs": [
    {
     "name": "stdout",
     "output_type": "stream",
     "text": [
      "first name asish and last name is thatikonda\n"
     ]
    }
   ],
   "source": [
    "f_name =\"asish\"\n",
    "l_name =\"thatikonda\"\n",
    "print(\"first name {} and last name is {}\".format(f_name,l_name))"
   ]
  },
  {
   "cell_type": "code",
   "execution_count": 41,
   "id": "7543e49d-6a18-4cc5-bae8-937a695e0936",
   "metadata": {},
   "outputs": [
    {
     "name": "stdout",
     "output_type": "stream",
     "text": [
      "first name thatikonda and last name is asish\n"
     ]
    }
   ],
   "source": [
    "print(\"first name {l} and last name is {f}\".format(f=f_name,l=l_name))"
   ]
  },
  {
   "cell_type": "code",
   "execution_count": 43,
   "id": "42a2fad1-9121-4209-a49a-729db39c0fff",
   "metadata": {},
   "outputs": [
    {
     "data": {
      "text/plain": [
       "5"
      ]
     },
     "execution_count": 43,
     "metadata": {},
     "output_type": "execute_result"
    }
   ],
   "source": [
    "len(\"asish\")"
   ]
  }
 ],
 "metadata": {
  "kernelspec": {
   "display_name": "Python 3 (ipykernel)",
   "language": "python",
   "name": "python3"
  },
  "language_info": {
   "codemirror_mode": {
    "name": "ipython",
    "version": 3
   },
   "file_extension": ".py",
   "mimetype": "text/x-python",
   "name": "python",
   "nbconvert_exporter": "python",
   "pygments_lexer": "ipython3",
   "version": "3.12.7"
  }
 },
 "nbformat": 4,
 "nbformat_minor": 5
}
